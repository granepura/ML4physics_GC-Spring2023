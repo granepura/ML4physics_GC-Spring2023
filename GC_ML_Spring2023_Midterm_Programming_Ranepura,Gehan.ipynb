{
 "cells": [
  {
   "cell_type": "markdown",
   "metadata": {},
   "source": [
    "### GC ML Midterm Quiz, March 15 - Programming section\n",
    "\n",
    "You have 12 questions; each of them is worth 5 points. Total time is 70 minutes and you can use anything you want (plagiarizing from the internet is still off-limits though, and please do not use chatGPT for this)."
   ]
  },
  {
   "cell_type": "markdown",
   "metadata": {},
   "source": [
    "0: Please write your name here (but sorry no points for this one):\n",
    "    \n",
    "    GEHAN RANEPURA"
   ]
  },
  {
   "cell_type": "code",
   "execution_count": 153,
   "metadata": {},
   "outputs": [],
   "source": [
    "#We do the imports for you to make it easier (you might not need everything, and you might use something else!)\n",
    "%matplotlib inline\n",
    "import numpy as np\n",
    "import matplotlib.pyplot as plt\n",
    "from sklearn.model_selection import train_test_split\n",
    "from sklearn.model_selection import cross_val_score, cross_validate, cross_val_predict\n",
    "from sklearn.model_selection import KFold, StratifiedKFold\n",
    "from sklearn import metrics\n",
    "from sklearn.metrics import confusion_matrix\n",
    "from sklearn.svm import SVC \n",
    "from sklearn.tree import DecisionTreeClassifier"
   ]
  },
  {
   "cell_type": "markdown",
   "metadata": {},
   "source": [
    "### Part 1: Arrays and plotting"
   ]
  },
  {
   "cell_type": "markdown",
   "metadata": {},
   "source": [
    "1\\. Define an array that contains all the <b> odd </b> numbers between 0 and 40, without typing them in."
   ]
  },
  {
   "cell_type": "code",
   "execution_count": 9,
   "metadata": {},
   "outputs": [
    {
     "name": "stdout",
     "output_type": "stream",
     "text": [
      "[ 1  3  5  7  9 11 13 15 17 19 21 23 25 27 29 31 33 35 37 39]\n"
     ]
    }
   ],
   "source": [
    "def odd(n):\n",
    "    return np.array(range(1, n, 2))\n",
    "\n",
    "A = odd(40)\n",
    "print(A)"
   ]
  },
  {
   "cell_type": "markdown",
   "metadata": {},
   "source": [
    "2\\. Define a function that takes a number x and calculates f(x) = x**4 - 3."
   ]
  },
  {
   "cell_type": "code",
   "execution_count": 10,
   "metadata": {},
   "outputs": [
    {
     "data": {
      "text/plain": [
       "13"
      ]
     },
     "execution_count": 10,
     "metadata": {},
     "output_type": "execute_result"
    }
   ],
   "source": [
    "def y(x):\n",
    "    return x**4 - 3\n",
    "\n",
    "y(2)"
   ]
  },
  {
   "cell_type": "markdown",
   "metadata": {},
   "source": [
    "3\\. Check whether the function above works with vectors, and if not, vectorize it. Apply the function to the array you defined in 1. to obtain another array (e.g. if the array you created above is called a, you would define another array b = f(a), where f is the name of your function). "
   ]
  },
  {
   "cell_type": "code",
   "execution_count": 16,
   "metadata": {},
   "outputs": [
    {
     "name": "stdout",
     "output_type": "stream",
     "text": [
      "[     -2      78     622    2398    6558   14638   28558   50622   83518\n",
      "  130318  194478  279838  390622  531438  707278  923518 1185918 1500622\n",
      " 1874158 2313438]\n"
     ]
    }
   ],
   "source": [
    "B = y(A)\n",
    "print(B)"
   ]
  },
  {
   "cell_type": "markdown",
   "metadata": {},
   "source": [
    "4\\. Plot these two arrays in a scatter plot. Add labels to the axes with the name of your arrays."
   ]
  },
  {
   "cell_type": "code",
   "execution_count": 21,
   "metadata": {},
   "outputs": [
    {
     "data": {
      "text/plain": [
       "Text(0, 0.5, 'Vector B (x**4 - 3)')"
      ]
     },
     "execution_count": 21,
     "metadata": {},
     "output_type": "execute_result"
    },
    {
     "data": {
      "image/png": "[encoded data removed]",
      "text/plain": [
       "<Figure size 640x480 with 1 Axes>"
      ]
     },
     "metadata": {},
     "output_type": "display_data"
    }
   ],
   "source": [
    "plt.scatter(A, B, alpha=.5)\n",
    "plt.xlabel(\"Vector A\")\n",
    "plt.ylabel(\"Vector B (x**4 - 3)\")"
   ]
  },
  {
   "cell_type": "markdown",
   "metadata": {},
   "source": [
    "### Part 2: Working with data"
   ]
  },
  {
   "cell_type": "markdown",
   "metadata": {},
   "source": [
    "We will work with a data set that contains data about women's health, where the target property is whether or not the someone had a caesarian section. The file that contains the data (both features and labels) is called caesarian.csv."
   ]
  },
  {
   "cell_type": "markdown",
   "metadata": {},
   "source": [
    "5\\. Read the data from the file, and define the features array with the first five columns, and the labels array, with the last column. Hint: this is a comma-separated-value file."
   ]
  },
  {
   "cell_type": "code",
   "execution_count": 51,
   "metadata": {},
   "outputs": [
    {
     "data": {
      "text/html": [
       "<div>\n",
       "<style scoped>\n",
       "    .dataframe tbody tr th:only-of-type {\n",
       "        vertical-align: middle;\n",
       "    }\n",
       "\n",
       "    .dataframe tbody tr th {\n",
       "        vertical-align: top;\n",
       "    }\n",
       "\n",
       "    .dataframe thead th {\n",
       "        text-align: right;\n",
       "    }\n",
       "</style>\n",
       "<table border=\"1\" class=\"dataframe\">\n",
       "  <thead>\n",
       "    <tr style=\"text-align: right;\">\n",
       "      <th></th>\n",
       "      <th>Age</th>\n",
       "      <th>B</th>\n",
       "      <th>C</th>\n",
       "      <th>D</th>\n",
       "      <th>E</th>\n",
       "      <th>C_section</th>\n",
       "    </tr>\n",
       "  </thead>\n",
       "  <tbody>\n",
       "    <tr>\n",
       "      <th>0</th>\n",
       "      <td>22</td>\n",
       "      <td>1</td>\n",
       "      <td>0</td>\n",
       "      <td>2</td>\n",
       "      <td>0</td>\n",
       "      <td>0</td>\n",
       "    </tr>\n",
       "    <tr>\n",
       "      <th>1</th>\n",
       "      <td>26</td>\n",
       "      <td>2</td>\n",
       "      <td>0</td>\n",
       "      <td>1</td>\n",
       "      <td>0</td>\n",
       "      <td>1</td>\n",
       "    </tr>\n",
       "    <tr>\n",
       "      <th>2</th>\n",
       "      <td>26</td>\n",
       "      <td>2</td>\n",
       "      <td>1</td>\n",
       "      <td>1</td>\n",
       "      <td>0</td>\n",
       "      <td>0</td>\n",
       "    </tr>\n",
       "    <tr>\n",
       "      <th>3</th>\n",
       "      <td>28</td>\n",
       "      <td>1</td>\n",
       "      <td>0</td>\n",
       "      <td>2</td>\n",
       "      <td>0</td>\n",
       "      <td>0</td>\n",
       "    </tr>\n",
       "    <tr>\n",
       "      <th>4</th>\n",
       "      <td>22</td>\n",
       "      <td>2</td>\n",
       "      <td>0</td>\n",
       "      <td>1</td>\n",
       "      <td>0</td>\n",
       "      <td>1</td>\n",
       "    </tr>\n",
       "    <tr>\n",
       "      <th>...</th>\n",
       "      <td>...</td>\n",
       "      <td>...</td>\n",
       "      <td>...</td>\n",
       "      <td>...</td>\n",
       "      <td>...</td>\n",
       "      <td>...</td>\n",
       "    </tr>\n",
       "    <tr>\n",
       "      <th>75</th>\n",
       "      <td>27</td>\n",
       "      <td>2</td>\n",
       "      <td>1</td>\n",
       "      <td>1</td>\n",
       "      <td>0</td>\n",
       "      <td>0</td>\n",
       "    </tr>\n",
       "    <tr>\n",
       "      <th>76</th>\n",
       "      <td>33</td>\n",
       "      <td>4</td>\n",
       "      <td>0</td>\n",
       "      <td>1</td>\n",
       "      <td>0</td>\n",
       "      <td>1</td>\n",
       "    </tr>\n",
       "    <tr>\n",
       "      <th>77</th>\n",
       "      <td>29</td>\n",
       "      <td>2</td>\n",
       "      <td>1</td>\n",
       "      <td>2</td>\n",
       "      <td>0</td>\n",
       "      <td>1</td>\n",
       "    </tr>\n",
       "    <tr>\n",
       "      <th>78</th>\n",
       "      <td>25</td>\n",
       "      <td>1</td>\n",
       "      <td>2</td>\n",
       "      <td>0</td>\n",
       "      <td>0</td>\n",
       "      <td>1</td>\n",
       "    </tr>\n",
       "    <tr>\n",
       "      <th>79</th>\n",
       "      <td>24</td>\n",
       "      <td>2</td>\n",
       "      <td>2</td>\n",
       "      <td>1</td>\n",
       "      <td>0</td>\n",
       "      <td>0</td>\n",
       "    </tr>\n",
       "  </tbody>\n",
       "</table>\n",
       "<p>80 rows × 6 columns</p>\n",
       "</div>"
      ],
      "text/plain": [
       "    Age  B  C  D  E  C_section\n",
       "0    22  1  0  2  0          0\n",
       "1    26  2  0  1  0          1\n",
       "2    26  2  1  1  0          0\n",
       "3    28  1  0  2  0          0\n",
       "4    22  2  0  1  0          1\n",
       "..  ... .. .. .. ..        ...\n",
       "75   27  2  1  1  0          0\n",
       "76   33  4  0  1  0          1\n",
       "77   29  2  1  2  0          1\n",
       "78   25  1  2  0  0          1\n",
       "79   24  2  2  1  0          0\n",
       "\n",
       "[80 rows x 6 columns]"
      ]
     },
     "execution_count": 51,
     "metadata": {},
     "output_type": "execute_result"
    }
   ],
   "source": [
    "import pandas as pd\n",
    "df = pd.read_csv('caesarian.csv', sep = ',', names = [\"Age\", \"B\", \"C\", \"D\", \"E\", \"C_section\"])\n",
    "df.head(100)"
   ]
  },
  {
   "cell_type": "markdown",
   "metadata": {},
   "source": [
    "6\\. How many instances are in your data set? How many features? \n",
    "## There are 80 instances\n",
    "## There are 5 features"
   ]
  },
  {
   "cell_type": "markdown",
   "metadata": {},
   "source": [
    "7\\. How many positive instances (assuming the positive class has label = 1) are in your data set? Is the data set very imbalanced? (Let's assume that a data set is very imbalanced if one of the classes contains < 20% of the objects).\n",
    "\n",
    "## There are 46 postive classes with label = 1"
   ]
  },
  {
   "cell_type": "code",
   "execution_count": 52,
   "metadata": {},
   "outputs": [
    {
     "name": "stdout",
     "output_type": "stream",
     "text": [
      "34\n",
      "46\n",
      "8.94427190999916\n"
     ]
    }
   ],
   "source": [
    "np.count_nonzero(df[\"C_section\"])\n",
    "print(df['C_section'].value_counts()[0])\n",
    "print(df['C_section'].value_counts()[1])\n",
    "print(np.sqrt(80))"
   ]
  },
  {
   "cell_type": "markdown",
   "metadata": {},
   "source": [
    "8\\. Choose an appropriate evaluation metric, based on the answer in Q7. For a decision tree classifier with default parameter values, report the average score of a 5-fold cross validation process, and the standard deviation of the scores vector."
   ]
  },
  {
   "cell_type": "code",
   "execution_count": 81,
   "metadata": {},
   "outputs": [],
   "source": [
    "LearningSet = df\n",
    "TrainSet = LearningSet.iloc[:60,:] \n",
    "TestSet  = LearningSet.iloc[60:,:]\n",
    "Xtrain = TrainSet.drop([\"C_section\"],axis=1)\n",
    "Xtest  = TestSet.drop([\"C_section\"],axis=1)\n",
    "ytrain = TrainSet.C_section\n",
    "ytest  = TestSet.C_section"
   ]
  },
  {
   "cell_type": "code",
   "execution_count": 84,
   "metadata": {},
   "outputs": [
    {
     "name": "stdout",
     "output_type": "stream",
     "text": [
      "DTtrain_score_60-20 --> 0.9833333333333333\n",
      "DTtest_score_60-20  --> 0.55\n"
     ]
    }
   ],
   "source": [
    "model = DecisionTreeClassifier(random_state = 5) # This is how we specify which method we'd like to use, and any parameters.\n",
    "model.fit(Xtrain, ytrain)                        # This tiny line is how we build models in sklearn.\n",
    "#plt.figure(figsize=(40,20))  # customize according to the size of your tree\n",
    "#tree.plot_tree(model, feature_names = ['Stellar Mass (M*)', 'Orbital Period (d)', 'Distance (AU)'], class_names = ['Not Habitable','Habitable'])\n",
    "plt.show()\n",
    "\n",
    "ypred_train = model.predict(Xtrain)\n",
    "print(\"DTtrain_score_60-20 -->\", metrics.accuracy_score(ytrain, ypred_train))\n",
    "ypred_test = model.predict(Xtest)\n",
    "print(\"DTtest_score_60-20  -->\", metrics.accuracy_score(ytest, ypred_test))"
   ]
  },
  {
   "cell_type": "markdown",
   "metadata": {},
   "source": [
    "9\\. Figure out (and explain) if your decision tree classifier is suffering from high bias or high variance.\n",
    "\n",
    "### There seems to be high variance because the test score and train score are far apart."
   ]
  },
  {
   "cell_type": "code",
   "execution_count": 102,
   "metadata": {},
   "outputs": [
    {
     "ename": "TypeError",
     "evalue": "plot_learning_curve() got an unexpected keyword argument 'cv'",
     "output_type": "error",
     "traceback": [
      "\u001b[0;31m---------------------------------------------------------------------------\u001b[0m",
      "\u001b[0;31mTypeError\u001b[0m                                 Traceback (most recent call last)",
      "\u001b[0;32m/var/folders/zn/wknmd3793w1b08wgws1qx64m0000gp/T/ipykernel_16022/1574007417.py\u001b[0m in \u001b[0;36m<module>\u001b[0;34m\u001b[0m\n\u001b[1;32m      1\u001b[0m \u001b[0mfeatures\u001b[0m \u001b[0;34m=\u001b[0m \u001b[0mLearningSet\u001b[0m\u001b[0;34m.\u001b[0m\u001b[0mdrop\u001b[0m\u001b[0;34m(\u001b[0m\u001b[0;34m[\u001b[0m\u001b[0;34m\"C_section\"\u001b[0m\u001b[0;34m]\u001b[0m\u001b[0;34m,\u001b[0m\u001b[0maxis\u001b[0m\u001b[0;34m=\u001b[0m\u001b[0;36m1\u001b[0m\u001b[0;34m)\u001b[0m\u001b[0;34m\u001b[0m\u001b[0;34m\u001b[0m\u001b[0m\n\u001b[1;32m      2\u001b[0m \u001b[0mtargets\u001b[0m \u001b[0;34m=\u001b[0m  \u001b[0mLearningSet\u001b[0m\u001b[0;34m[\u001b[0m\u001b[0;34m\"C_section\"\u001b[0m\u001b[0;34m]\u001b[0m\u001b[0;34m\u001b[0m\u001b[0;34m\u001b[0m\u001b[0m\n\u001b[0;32m----> 3\u001b[0;31m \u001b[0mplot_learning_curve\u001b[0m\u001b[0;34m(\u001b[0m\u001b[0mmodel\u001b[0m\u001b[0;34m,\u001b[0m \u001b[0;34m'Generalized Learning Curves'\u001b[0m\u001b[0;34m,\u001b[0m \u001b[0mfeatures\u001b[0m\u001b[0;34m,\u001b[0m \u001b[0mtargets\u001b[0m\u001b[0;34m,\u001b[0m \u001b[0mtrain_sizes\u001b[0m \u001b[0;34m=\u001b[0m \u001b[0mnp\u001b[0m\u001b[0;34m.\u001b[0m\u001b[0marray\u001b[0m\u001b[0;34m(\u001b[0m\u001b[0;34m[\u001b[0m\u001b[0;36m0.05\u001b[0m\u001b[0;34m,\u001b[0m\u001b[0;36m0.1\u001b[0m\u001b[0;34m,\u001b[0m\u001b[0;36m0.2\u001b[0m\u001b[0;34m,\u001b[0m\u001b[0;36m0.5\u001b[0m\u001b[0;34m,\u001b[0m\u001b[0;36m1.0\u001b[0m\u001b[0;34m]\u001b[0m\u001b[0;34m)\u001b[0m\u001b[0;34m,\u001b[0m \u001b[0mcv\u001b[0m \u001b[0;34m=\u001b[0m \u001b[0mKFold\u001b[0m\u001b[0;34m(\u001b[0m\u001b[0mn_splits\u001b[0m\u001b[0;34m=\u001b[0m\u001b[0;36m5\u001b[0m\u001b[0;34m,\u001b[0m \u001b[0mshuffle\u001b[0m\u001b[0;34m=\u001b[0m\u001b[0;32mTrue\u001b[0m\u001b[0;34m)\u001b[0m\u001b[0;34m)\u001b[0m\u001b[0;34m\u001b[0m\u001b[0;34m\u001b[0m\u001b[0m\n\u001b[0m",
      "\u001b[0;31mTypeError\u001b[0m: plot_learning_curve() got an unexpected keyword argument 'cv'"
     ]
    }
   ],
   "source": [
    "features = LearningSet.drop([\"C_section\"],axis=1)\n",
    "targets =  LearningSet[\"C_section\"]\n",
    "plot_learning_curve(model, 'Generalized Learning Curves', features, targets, train_sizes = np.array([0.05,0.1,0.2,0.5,1.0]), cv = KFold(n_splits=5, shuffle=True))"
   ]
  },
  {
   "cell_type": "markdown",
   "metadata": {},
   "source": [
    "10\\. Use a SVM  classifier with default parameter values and report the average test scores for a 5-fold cross validation, and the standard deviation of the scores vector. Between the DT and the SVM, which model would you pick and why?\n",
    "\n",
    "### I would choose Decision Trees because this is a binary classication problem where the data shows a similar of people with C_sections with those that do not."
   ]
  },
  {
   "cell_type": "code",
   "execution_count": 138,
   "metadata": {},
   "outputs": [
    {
     "name": "stdout",
     "output_type": "stream",
     "text": [
      "Score = 0.625 StDev = 0.143\n"
     ]
    }
   ],
   "source": [
    "from sklearn.svm import SVC, LinearSVC\n",
    "from sklearn.preprocessing import StandardScaler\n",
    "from sklearn.model_selection import cross_val_predict, cross_validate\n",
    "from sklearn.model_selection import KFold, StratifiedKFold\n",
    "from sklearn import metrics\n",
    "from sklearn.model_selection import GridSearchCV\n",
    "\n",
    "bmodel = LinearSVC(dual = False) #Prefer dual=Falsewhen n_samples > n_features. If not, will not converge!!\n",
    "cv = StratifiedKFold(n_splits=5, shuffle=True, random_state=101) \n",
    "\n",
    "features = LearningSet.drop([\"C_section\"],axis=1)\n",
    "targets =  LearningSet[\"C_section\"]\n",
    "score = cross_validate(bmodel, features, targets, cv = cv, scoring = 'accuracy', return_train_score=True)\n",
    "print(\"Score = {:.3f}\".format(score['test_score'].mean()), \"StDev = {:.3f}\".format(score['test_score'].std()))"
   ]
  },
  {
   "cell_type": "markdown",
   "metadata": {},
   "source": [
    "11\\. Use the function cross_val_predict to derive the predicted labels for your data set (you can use either model, the tree or the SVM), and print (or plot, but printing is sufficient!) the confusion matrix."
   ]
  },
  {
   "cell_type": "code",
   "execution_count": 147,
   "metadata": {},
   "outputs": [],
   "source": [
    "cv1 = KFold(n_splits = 5)\n",
    "model1 = DecisionTreeClassifier(random_state = 5)\n",
    "y1 = cross_val_predict(model1, features, targets, cv = cv1) #these are the predictions!"
   ]
  },
  {
   "cell_type": "code",
   "execution_count": 148,
   "metadata": {},
   "outputs": [],
   "source": [
    "def plot_confusion_matrix(cm, classes,\n",
    "                          normalize=False,\n",
    "                          title='Confusion matrix',\n",
    "                          cmap=plt.cm.Blues):\n",
    "    \"\"\"\n",
    "    This function prints and plots the confusion matrix.\n",
    "    Normalization can be applied by setting `normalize=True`.\n",
    "    \"\"\"\n",
    "    if normalize:\n",
    "        cm = cm.astype('float') / cm.sum(axis=1)[:, np.newaxis]\n",
    "        print(\"Normalized confusion matrix\")\n",
    "    else:\n",
    "        print('Confusion matrix, without normalization')\n",
    "\n",
    "    plt.figure(figsize=(7,6))\n",
    "    print(cm)\n",
    "    plt.imshow(cm, interpolation='nearest', cmap=cmap)\n",
    "    plt.title(title)\n",
    "    plt.colorbar()\n",
    "    tick_marks = np.arange(len(classes))\n",
    "    plt.xticks(tick_marks, classes, rotation=45)\n",
    "    plt.yticks(tick_marks, classes)\n",
    "\n",
    "    fmt = '.2f' if normalize else 'd'\n",
    "    thresh = cm.max() / 2.\n",
    "    for i in range(cm.shape[0]):\n",
    "        for j in range(cm.shape[1]):\n",
    "            plt.text(j, i, format(cm[i, j], fmt),\n",
    "                 horizontalalignment=\"center\", verticalalignment=\"center\",\n",
    "                 color=\"green\" if i == j else \"red\", fontsize = 30)\n",
    "\n",
    "    plt.tight_layout()\n",
    "    plt.ylabel('True label')\n",
    "    plt.xlabel('Predicted label')"
   ]
  },
  {
   "cell_type": "code",
   "execution_count": 146,
   "metadata": {},
   "outputs": [
    {
     "name": "stdout",
     "output_type": "stream",
     "text": [
      "Confusion matrix, without normalization\n",
      "[[21 13]\n",
      " [15 31]]\n"
     ]
    },
    {
     "data": {
      "image/png": "[encoded data removed]",
      "text/plain": [
       "<Figure size 700x600 with 2 Axes>"
      ]
     },
     "metadata": {},
     "output_type": "display_data"
    }
   ],
   "source": [
    "cm = metrics.confusion_matrix(y1,model.predict(features))\n",
    "\n",
    "#cm\n",
    "plot_confusion_matrix(cm, ['No C_section','C_section'], cmap = plt.cm.Blues)"
   ]
  },
  {
   "cell_type": "markdown",
   "metadata": {
    "collapsed": true
   },
   "source": [
    "12\\. Play with one or two parameters of the SVM classifier to see if you can improve performance (note: we are not asking to do nested cross validation, just to attempt changing/optimizing parameters)."
   ]
  },
  {
   "cell_type": "code",
   "execution_count": 149,
   "metadata": {},
   "outputs": [
    {
     "name": "stdout",
     "output_type": "stream",
     "text": [
      "Score_C=10 = 0.625 StDev_C=10 = 0.143\n"
     ]
    }
   ],
   "source": [
    "# Use C = 1\n",
    "bmodel_1 = LinearSVC(dual = False, C = 1) #Prefer dual=Falsewhen n_samples > n_features. If not, will not converge!!\n",
    "cv = StratifiedKFold(n_splits=5, shuffle=True, random_state=101) \n",
    "\n",
    "features = LearningSet.drop([\"C_section\"],axis=1)\n",
    "targets =  LearningSet[\"C_section\"]\n",
    "score = cross_validate(bmodel_1, features, targets, cv = cv, scoring = 'accuracy', return_train_score=True)\n",
    "print(\"Score_C=10 = {:.3f}\".format(score['test_score'].mean()), \"StDev_C=10 = {:.3f}\".format(score['test_score'].std()))"
   ]
  },
  {
   "cell_type": "code",
   "execution_count": 151,
   "metadata": {},
   "outputs": [
    {
     "name": "stdout",
     "output_type": "stream",
     "text": [
      "Score_C=100 = 0.637 StDev_C=100 = 0.155\n"
     ]
    }
   ],
   "source": [
    "# Use C = 5\n",
    "bmodel_5 = LinearSVC(dual = False, C = 5) #Prefer dual=Falsewhen n_samples > n_features. If not, will not converge!!\n",
    "cv = StratifiedKFold(n_splits=5, shuffle=True, random_state=101) \n",
    "\n",
    "features = LearningSet.drop([\"C_section\"],axis=1)\n",
    "targets =  LearningSet[\"C_section\"]\n",
    "score = cross_validate(bmodel_5, features, targets, cv = cv, scoring = 'accuracy', return_train_score=True)\n",
    "print(\"Score_C=100 = {:.3f}\".format(score['test_score'].mean()), \"StDev_C=100 = {:.3f}\".format(score['test_score'].std()))"
   ]
  },
  {
   "cell_type": "markdown",
   "metadata": {},
   "source": [
    "EC: Do you think your data set needs scaling? Why or why not?\n",
    "### For Decision Trees we do not scaling but for SVMs we need scaling because our test scores are not that great."
   ]
  },
  {
   "cell_type": "markdown",
   "metadata": {},
   "source": [
    "EC2: Based on your answer for Q8, do you think that limiting the maximum depth of the Decision Tree classifier would help? Why or why not?\n",
    "\n",
    "### Yes, because there is a large variations in the elements of the confusion marix. Therefore using a simpler alogrithm would be better to classify if there is C_section or not."
   ]
  },
  {
   "cell_type": "code",
   "execution_count": null,
   "metadata": {},
   "outputs": [],
   "source": []
  }
 ],
 "metadata": {
  "kernelspec": {
   "display_name": "Python 3 (ipykernel)",
   "language": "python",
   "name": "python3"
  },
  "language_info": {
   "codemirror_mode": {
    "name": "ipython",
    "version": 3
   },
   "file_extension": ".py",
   "mimetype": "text/x-python",
   "name": "python",
   "nbconvert_exporter": "python",
   "pygments_lexer": "ipython3",
   "version": "3.9.13"
  }
 },
 "nbformat": 4,
 "nbformat_minor": 2
}
